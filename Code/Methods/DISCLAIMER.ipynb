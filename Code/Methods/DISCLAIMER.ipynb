{
 "cells": [
  {
   "cell_type": "markdown",
   "metadata": {},
   "source": [
    "**DISCLAIMER**\n",
    "\n",
    "This document provides a comprehensive overview of the various models we implemented throughout our project. It's important to note, however, that this collection is not exhaustive in representing our experimentation process. \n",
    "\n",
    "In reality, our journey involved significantly more submissions than documented here. We constantly refined our approach, tweaking aspects like data preprocessing and cleaning methods, adjusting batch sizes, and varying the number of epochs, among other parameters. \n",
    "\n",
    "Each of these iterations played a crucial role in enhancing our models' performance and accuracy, although they may not all be individually detailed in this report."
   ]
  }
 ],
 "metadata": {
  "language_info": {
   "name": "python"
  }
 },
 "nbformat": 4,
 "nbformat_minor": 2
}
