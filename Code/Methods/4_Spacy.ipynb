{
 "cells": [
  {
   "cell_type": "markdown",
   "metadata": {},
   "source": [
    "<a href=\"https://colab.research.google.com/github/michalis0/DataScience_and_MachineLearning/blob/master/Assignements/Part%204/Assignment_part_four.ipynb\" target=\"_parent\"><img src=\"https://colab.research.google.com/assets/colab-badge.svg\" alt=\"Open In Colab\"/></a>"
   ]
  },
  {
   "cell_type": "markdown",
   "metadata": {},
   "source": [
    "**Use of Spacy**\n",
    "\n",
    "Now, we integrated spaCy with RandomForestClassifier. SpaCy, with its advanced natural language processing capabilities, allowed us to effectively parse and understand the linguistic features of our text data. This enriched data was then fed into RandomForestClassifier, a robust model known for handling complex classification tasks. \n",
    "\n",
    "While RandomForest excels in many scenarios, we found that its traditional strength in numerical data doesn't fully translate to the nuanced requirements of text data, presenting a unique challenge in accurately classifying text difficulty. Unfortunately, the result was not good enough."
   ]
  },
  {
   "cell_type": "code",
   "execution_count": null,
   "metadata": {},
   "outputs": [],
   "source": [
    "from sklearn.preprocessing import LabelEncoder, OneHotEncoder\n",
    "import numpy as np\n",
    "import pandas as pd\n",
    "from sklearn.model_selection import train_test_split\n",
    "from sklearn.preprocessing import MinMaxScaler\n",
    "\n",
    "import pandas as pd\n",
    "df_train = pd.read_csv(\"https://raw.githubusercontent.com/Oglo/Project-DSML/main/Data/training_data.csv\").dropna()\n",
    "df_test = pd.read_csv(\"https://raw.githubusercontent.com/Oglo/Project-DSML/main/Data/unlabelled_test_data.csv\").dropna()\n",
    "df_final = pd.read_csv(\"https://raw.githubusercontent.com/Oglo/Project-DSML/main/Data/sample_submission.csv\").dropna()"
   ]
  },
  {
   "cell_type": "code",
   "execution_count": null,
   "metadata": {},
   "outputs": [],
   "source": [
    "import pandas as pd\n",
    "from sklearn.model_selection import train_test_split\n",
    "from sklearn.ensemble import RandomForestClassifier\n",
    "from sklearn.metrics import accuracy_score\n",
    "import spacy\n",
    "\n",
    "nlp = spacy.load('fr_core_news_sm')\n",
    "\n",
    "def extract_features(text):\n",
    "    doc = nlp(text)\n",
    "    num_sentences = len(list(doc.sents))\n",
    "    num_tokens = len(doc)\n",
    "    avg_sentence_length = num_tokens / num_sentences if num_sentences > 0 else 0\n",
    "    lexical_diversity = len(set(token.text.lower() for token in doc)) / num_tokens if num_tokens > 0 else 0\n",
    "    return [avg_sentence_length, lexical_diversity]\n",
    "\n",
    "df_train['features'] = df_train['sentence'].apply(extract_features)\n",
    "\n",
    "features_df = pd.DataFrame(df_train['features'].tolist(), columns=['avg_sentence_length', 'lexical_diversity'])\n",
    "X = features_df\n",
    "y = df_train['difficulty'] \n",
    "\n",
    "X_train, X_val, y_train, y_val = train_test_split(X, y, test_size=0.2, random_state=42)\n",
    "\n",
    "model = RandomForestClassifier()\n",
    "model.fit(X_train, y_train)\n",
    "\n",
    "y_pred_val = model.predict(X_val)\n",
    "accuracy = accuracy_score(y_val, y_pred_val)\n",
    "print(\"Accuracy:\", accuracy)\n",
    "\n",
    "df_test['features'] = df_test['sentence'].apply(extract_features)\n",
    "test_features_df = pd.DataFrame(df_test['features'].tolist(), columns=['avg_sentence_length', 'lexical_diversity'])\n",
    "X_test = test_features_df\n",
    "\n",
    "y_pred_test = model.predict(X_test)\n",
    "\n",
    "df_final['difficulty'] = y_pred_test \n",
    "\n",
    "df_final['difficulty'] = df_final['difficulty'].map(difficulty_mapping)"
   ]
  }
 ],
 "metadata": {
  "language_info": {
   "name": "python"
  }
 },
 "nbformat": 4,
 "nbformat_minor": 2
}
