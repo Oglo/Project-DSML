{
 "cells": [
  {
   "cell_type": "markdown",
   "metadata": {},
   "source": [
    "<a href=\"https://colab.research.google.com/drive/1dABnmBSwSdN2P-wOOQbaeYo5oF0Ei6cp#scrollTo=ts1xotKAkWoL\" target=\"_parent\"><img src=\"https://colab.research.google.com/assets/colab-badge.svg\" alt=\"Open In Colab\"/></a>"
   ]
  },
  {
   "cell_type": "markdown",
   "metadata": {},
   "source": [
    "**Random Forest Classifier**\n",
    "\n",
    "For our second model attempt, we turned to RandomForestClassifier with the expectation of leveraging its robustness in handling diverse data sets. Known for its high accuracy in many domains, we anticipated strong results. However, as we progressed, it became evident that RandomForest, primarily designed for numerical and categorical data, struggles with the nuances of textual analysis. \n",
    "\n",
    "This realization was a pivotal learning moment, underscoring that despite its strengths, RandomForestClassifier isn't quite tailored for the intricate task of interpreting and classifying text difficulty levels, where context and semantic understanding are key."
   ]
  },
  {
   "cell_type": "code",
   "execution_count": null,
   "metadata": {},
   "outputs": [],
   "source": [
    "from sklearn.preprocessing import LabelEncoder, OneHotEncoder\n",
    "import numpy as np\n",
    "import pandas as pd\n",
    "from sklearn.model_selection import train_test_split\n",
    "from sklearn.preprocessing import MinMaxScaler\n",
    "\n",
    "import pandas as pd\n",
    "df_train = pd.read_csv(\"https://raw.githubusercontent.com/Oglo/Project-DSML/main/Data/training_data.csv\").dropna()\n",
    "df_test = pd.read_csv(\"https://raw.githubusercontent.com/Oglo/Project-DSML/main/Data/unlabelled_test_data.csv\").dropna()\n",
    "df_final = pd.read_csv(\"https://raw.githubusercontent.com/Oglo/Project-DSML/main/Data/sample_submission.csv\").dropna()"
   ]
  },
  {
   "cell_type": "code",
   "execution_count": null,
   "metadata": {},
   "outputs": [],
   "source": [
    "from sklearn.model_selection import train_test_split\n",
    "from sklearn.feature_extraction.text import TfidfVectorizer\n",
    "from sklearn.linear_model import LogisticRegression\n",
    "from sklearn.ensemble import RandomForestClassifier\n",
    "from sklearn.metrics import accuracy_score\n",
    "from sklearn.pipeline import Pipeline\n",
    "\n",
    "vectorizer = TfidfVectorizer(max_features=1000)\n",
    "X2 = vectorizer.fit_transform(df_train['sentence'])\n",
    "y2 = df_train['difficulty']\n",
    "\n",
    "X_train2, X_test2, y_train2, y_test2 = train_test_split(X2, y2, test_size=0.2, random_state=42)\n",
    "\n",
    "model = RandomForestClassifier()\n",
    "model.fit(X_train2, y_train2)\n",
    "\n",
    "predictions2 = model.predict(X_test2)\n",
    "accuracy = accuracy_score(y_test2, predictions2)\n",
    "print(f'Accuracy: {accuracy}')\n",
    "\n",
    "test_data_features = vectorizer.transform(df_test['sentence'])\n",
    "test_predictions = model.predict(test_data_features)\n",
    "submission = pd.DataFrame({'id': df_test['id'], 'difficulty': test_predictions})\n",
    "\n",
    "submission.to_csv('submission.csv', index=False)"
   ]
  }
 ],
 "metadata": {
  "language_info": {
   "name": "python"
  }
 },
 "nbformat": 4,
 "nbformat_minor": 2
}
