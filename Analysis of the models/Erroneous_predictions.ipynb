{
 "cells": [
  {
   "cell_type": "markdown",
   "metadata": {},
   "source": [
    "# Erroneous predictions\n",
    "\n",
    "In order to find the best model, we had to make multiple assumptions and use\n",
    "a lot of differnet models. Of course, some were good and some were catastrophic,\n",
    "so in this section, we would like to analyze the worst models that we use and \n",
    "maybe explain why they were so terrible compare to the other ones.\n",
    "\n",
    "Please, note that if you want to read the analysis about our\n",
    "best model you can click [here](https://github.com/Oglo/Project-DSML/blob/main/Analysis%20of%20the%20models/Best_model.ipynb)\n",
    " to access it directly.\n",
    "\n",
    "**RandomForestClassifier (accuracy of 36.5%) :**\n",
    "\n",
    "Predicting the difficulty of text using RandomForestClassifier faces several difficulties. \n",
    "Firstly, the model lacks context sensitivity; it struggles to grasp the nuances of language,\n",
    "like figurative speech or complex grammatical structures. This means that the model is a good\n",
    "model if we have to predict with numerical data, but when we have textual data the model is\n",
    "not powerful. \n",
    "\n",
    "Secondly, relying on TfidfVectorizer for text transformation has its limits.\n",
    "It focuses on word frequency but misses out on context and word order which is \n",
    "a crucial aspect if we want to understand text complexity, because the complexit\n",
    "of a text rely on his syntax and not only the words that are used.\n",
    "\n",
    "Overfitting is another issue. RandomForest, with its decision trees,\n",
    "can get too tailored to the training data, hindering its performance on new,\n",
    "unseen texts. Also, the quality and diversity of training data are key.\n",
    "A limited dataset might bias the model's learning, affecting the model accuracy.\n",
    "\n",
    "\n",
    "**Logitic regression (accuracy of 45.5%) :**\n",
    "\n",
    "Using Logistic Regression with TF-IDF for predicting the difficulty of texts also\n",
    "presents some difficulties. \n",
    "One key issue is the TF-IDF model's focus on word frequency. While this approach\n",
    "captures the importance of certain words, it overlooks the context and sequence of words,\n",
    "which are critical in determining text complexity.\n",
    "\n",
    "Logistic Regression, although effective for linear classification problems,\n",
    "may struggle with the nuanced and multi-dimensional nature of language.\n",
    "It tends to view data through a linear lens, which can be limiting when dealing\n",
    "with the complexities of natural language, where context and subtleties play a significant role.\n",
    "\n",
    "Another potential issue is overfitting, especially if the training data isn't diverse enough.\n",
    "If the model is too closely fitted to the training data, it may not perform well on new,\n",
    "unseen texts. This is particularly true for language models where the diversity of expression,\n",
    "syntax, and vocabulary can vary greatly.\n",
    "\n",
    "Additionally, the accuracy might be affected by the way labels are encoded and the balance of\n",
    "the dataset. If the dataset is biased towards certain difficulty levels,\n",
    "it could bias the model's predictions."
   ]
  }
 ],
 "metadata": {
  "language_info": {
   "name": "python"
  }
 },
 "nbformat": 4,
 "nbformat_minor": 2
}
